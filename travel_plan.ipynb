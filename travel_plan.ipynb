{
 "cells": [
  {
   "cell_type": "code",
   "execution_count": 3,
   "metadata": {
    "collapsed": false
   },
   "outputs": [],
   "source": [
    "import pandas as pd\n",
    "import numpy as np\n",
    "from sklearn.neighbors import KNeighborsClassifier\n",
    "import os\n",
    "\n",
    "path = os.getcwd()\n",
    "travel_data = pd.read_csv(path + '/Data/trip_plan.csv', encoding = 'latin1') \n",
    "#travel_data = travel_data[travel_data['lat'] != -999]"
   ]
  },
  {
   "cell_type": "code",
   "execution_count": 4,
   "metadata": {
    "collapsed": false
   },
   "outputs": [
    {
     "data": {
      "text/html": [
       "<div>\n",
       "<table border=\"1\" class=\"dataframe\">\n",
       "  <thead>\n",
       "    <tr style=\"text-align: right;\">\n",
       "      <th></th>\n",
       "      <th>address</th>\n",
       "      <th>description</th>\n",
       "      <th>detail</th>\n",
       "      <th>lat</th>\n",
       "      <th>lng</th>\n",
       "      <th>name</th>\n",
       "      <th>rating</th>\n",
       "      <th>total_review</th>\n",
       "    </tr>\n",
       "  </thead>\n",
       "  <tbody>\n",
       "    <tr>\n",
       "      <th>0</th>\n",
       "      <td>1000 5th Ave, New York City, NY 10028-0198</td>\n",
       "      <td>At New York City's most visited museum and att...</td>\n",
       "      <td>Recommended length of visit: 2-3 hours   Fee: Yes</td>\n",
       "      <td>40.779430</td>\n",
       "      <td>-73.963240</td>\n",
       "      <td>The Metropolitan Museum of Art</td>\n",
       "      <td>5.0</td>\n",
       "      <td>38595</td>\n",
       "    </tr>\n",
       "    <tr>\n",
       "      <th>1</th>\n",
       "      <td>New York City, NY</td>\n",
       "      <td>-999</td>\n",
       "      <td>-999</td>\n",
       "      <td>40.748330</td>\n",
       "      <td>-73.985680</td>\n",
       "      <td>Manhattan Skyline</td>\n",
       "      <td>5.0</td>\n",
       "      <td>15397</td>\n",
       "    </tr>\n",
       "    <tr>\n",
       "      <th>2</th>\n",
       "      <td>420 W 14th St, Floor 2, New York City, NY 1001...</td>\n",
       "      <td>Ground Zero Museum Workshop: Images &amp; Artifact...</td>\n",
       "      <td>Recommended length of visit: 1-2 hours</td>\n",
       "      <td>40.742065</td>\n",
       "      <td>-74.002530</td>\n",
       "      <td>Ground Zero Museum Workshop</td>\n",
       "      <td>5.0</td>\n",
       "      <td>2619</td>\n",
       "    </tr>\n",
       "    <tr>\n",
       "      <th>3</th>\n",
       "      <td>59th to 110th Street, Manhattan Borough, from ...</td>\n",
       "      <td>For more than 150 years, visitors have flocked...</td>\n",
       "      <td>Recommended length of visit: More than 3 hours...</td>\n",
       "      <td>40.783005</td>\n",
       "      <td>-73.965360</td>\n",
       "      <td>Central Park</td>\n",
       "      <td>4.5</td>\n",
       "      <td>86871</td>\n",
       "    </tr>\n",
       "    <tr>\n",
       "      <th>4</th>\n",
       "      <td>180 Greenwich St, World Trade Center, New York...</td>\n",
       "      <td>The National September 11 Memorial &amp; Museum is...</td>\n",
       "      <td>Recommended length of visit: 1-2 hours   Fee: No</td>\n",
       "      <td>40.711510</td>\n",
       "      <td>-74.013320</td>\n",
       "      <td>The National 9/11 Memorial &amp; Museum</td>\n",
       "      <td>4.5</td>\n",
       "      <td>57149</td>\n",
       "    </tr>\n",
       "    <tr>\n",
       "      <th>5</th>\n",
       "      <td>30 Rockefeller Center, New York City, NY</td>\n",
       "      <td>Top of the Rock Observation Deck, the newly op...</td>\n",
       "      <td>Fee: Yes</td>\n",
       "      <td>40.758884</td>\n",
       "      <td>-73.979385</td>\n",
       "      <td>Top of the Rock Observation Deck</td>\n",
       "      <td>4.5</td>\n",
       "      <td>54110</td>\n",
       "    </tr>\n",
       "    <tr>\n",
       "      <th>6</th>\n",
       "      <td>350 Fifth Avenue, Between 33rd and 34th Street...</td>\n",
       "      <td>The world-famous Empire State Building offers ...</td>\n",
       "      <td>Recommended length of visit: 1-2 hours   Fee: Yes</td>\n",
       "      <td>40.748135</td>\n",
       "      <td>-73.984800</td>\n",
       "      <td>Empire State Building</td>\n",
       "      <td>4.5</td>\n",
       "      <td>48946</td>\n",
       "    </tr>\n",
       "    <tr>\n",
       "      <th>7</th>\n",
       "      <td>New York City, NY 10014</td>\n",
       "      <td>The High Line is an elevated railway transform...</td>\n",
       "      <td>Recommended length of visit: 2-3 hours   Fee: No</td>\n",
       "      <td>40.739437</td>\n",
       "      <td>-74.008300</td>\n",
       "      <td>The High Line</td>\n",
       "      <td>4.5</td>\n",
       "      <td>39757</td>\n",
       "    </tr>\n",
       "    <tr>\n",
       "      <th>8</th>\n",
       "      <td>Broadway, New York City, NY 10036</td>\n",
       "      <td>Central area in NYC that has many shops, resta...</td>\n",
       "      <td>Recommended length of visit: 1-2 hours</td>\n",
       "      <td>40.758890</td>\n",
       "      <td>-73.985120</td>\n",
       "      <td>Times Square</td>\n",
       "      <td>4.5</td>\n",
       "      <td>28260</td>\n",
       "    </tr>\n",
       "    <tr>\n",
       "      <th>9</th>\n",
       "      <td>89 E 42nd Street, New York City, NY 10017-5503</td>\n",
       "      <td>Grand Central Terminal is the most extraordina...</td>\n",
       "      <td>Recommended length of visit: 1-2 hours</td>\n",
       "      <td>40.752728</td>\n",
       "      <td>-73.977230</td>\n",
       "      <td>Grand Central Terminal</td>\n",
       "      <td>4.5</td>\n",
       "      <td>26290</td>\n",
       "    </tr>\n",
       "    <tr>\n",
       "      <th>10</th>\n",
       "      <td>Liberty Island, New York City, NY 10004</td>\n",
       "      <td>The Statue of Liberty Enlightening the World w...</td>\n",
       "      <td>Recommended length of visit: More than 3 hours...</td>\n",
       "      <td>40.689760</td>\n",
       "      <td>-74.045135</td>\n",
       "      <td>Statue of Liberty</td>\n",
       "      <td>4.5</td>\n",
       "      <td>24861</td>\n",
       "    </tr>\n",
       "    <tr>\n",
       "      <th>11</th>\n",
       "      <td>New York City, NY</td>\n",
       "      <td>Description: The most famous theater district ...</td>\n",
       "      <td>-999</td>\n",
       "      <td>40.757970</td>\n",
       "      <td>-73.985535</td>\n",
       "      <td>Broadway</td>\n",
       "      <td>4.5</td>\n",
       "      <td>21593</td>\n",
       "    </tr>\n",
       "  </tbody>\n",
       "</table>\n",
       "</div>"
      ],
      "text/plain": [
       "                                              address  \\\n",
       "0          1000 5th Ave, New York City, NY 10028-0198   \n",
       "1                                   New York City, NY   \n",
       "2   420 W 14th St, Floor 2, New York City, NY 1001...   \n",
       "3   59th to 110th Street, Manhattan Borough, from ...   \n",
       "4   180 Greenwich St, World Trade Center, New York...   \n",
       "5            30 Rockefeller Center, New York City, NY   \n",
       "6   350 Fifth Avenue, Between 33rd and 34th Street...   \n",
       "7                             New York City, NY 10014   \n",
       "8                   Broadway, New York City, NY 10036   \n",
       "9      89 E 42nd Street, New York City, NY 10017-5503   \n",
       "10            Liberty Island, New York City, NY 10004   \n",
       "11                                  New York City, NY   \n",
       "\n",
       "                                          description  \\\n",
       "0   At New York City's most visited museum and att...   \n",
       "1                                                -999   \n",
       "2   Ground Zero Museum Workshop: Images & Artifact...   \n",
       "3   For more than 150 years, visitors have flocked...   \n",
       "4   The National September 11 Memorial & Museum is...   \n",
       "5   Top of the Rock Observation Deck, the newly op...   \n",
       "6   The world-famous Empire State Building offers ...   \n",
       "7   The High Line is an elevated railway transform...   \n",
       "8   Central area in NYC that has many shops, resta...   \n",
       "9   Grand Central Terminal is the most extraordina...   \n",
       "10  The Statue of Liberty Enlightening the World w...   \n",
       "11  Description: The most famous theater district ...   \n",
       "\n",
       "                                               detail        lat        lng  \\\n",
       "0   Recommended length of visit: 2-3 hours   Fee: Yes  40.779430 -73.963240   \n",
       "1                                                -999  40.748330 -73.985680   \n",
       "2              Recommended length of visit: 1-2 hours  40.742065 -74.002530   \n",
       "3   Recommended length of visit: More than 3 hours...  40.783005 -73.965360   \n",
       "4    Recommended length of visit: 1-2 hours   Fee: No  40.711510 -74.013320   \n",
       "5                                            Fee: Yes  40.758884 -73.979385   \n",
       "6   Recommended length of visit: 1-2 hours   Fee: Yes  40.748135 -73.984800   \n",
       "7    Recommended length of visit: 2-3 hours   Fee: No  40.739437 -74.008300   \n",
       "8              Recommended length of visit: 1-2 hours  40.758890 -73.985120   \n",
       "9              Recommended length of visit: 1-2 hours  40.752728 -73.977230   \n",
       "10  Recommended length of visit: More than 3 hours...  40.689760 -74.045135   \n",
       "11                                               -999  40.757970 -73.985535   \n",
       "\n",
       "                                   name  rating  total_review  \n",
       "0        The Metropolitan Museum of Art     5.0         38595  \n",
       "1                     Manhattan Skyline     5.0         15397  \n",
       "2           Ground Zero Museum Workshop     5.0          2619  \n",
       "3                          Central Park     4.5         86871  \n",
       "4   The National 9/11 Memorial & Museum     4.5         57149  \n",
       "5      Top of the Rock Observation Deck     4.5         54110  \n",
       "6                 Empire State Building     4.5         48946  \n",
       "7                         The High Line     4.5         39757  \n",
       "8                          Times Square     4.5         28260  \n",
       "9                Grand Central Terminal     4.5         26290  \n",
       "10                    Statue of Liberty     4.5         24861  \n",
       "11                             Broadway     4.5         21593  "
      ]
     },
     "execution_count": 4,
     "metadata": {},
     "output_type": "execute_result"
    }
   ],
   "source": [
    "travel_data\n",
    "recommented_attraction = travel_data.iloc[:12, :]\n",
    "recommented_attraction\n",
    "#travel_data"
   ]
  },
  {
   "cell_type": "code",
   "execution_count": 27,
   "metadata": {
    "collapsed": false
   },
   "outputs": [],
   "source": [
    "f = open('myfile','w')\n",
    "for t in range(3):\n",
    "#index_list.append(labels[labels == i].tolist())\n",
    "    f.write('Day '+ str(t) + '\\n')\n",
    "    f.write('Attractions: ' + '\\n')\n",
    "    for x in index_list[t]:\n",
    "        f.write(recommented_attraction.iloc[x]['name'] + '\\n')\n",
    "        f.write(recommented_attraction.iloc[x]['address'] + '\\n')\n",
    "        f.write(recommented_attraction.iloc[x]['description'] + '\\n')\n",
    "        f.write(recommented_attraction.iloc[x]['detail'] + '\\n\\n')"
   ]
  },
  {
   "cell_type": "code",
   "execution_count": 35,
   "metadata": {
    "collapsed": false
   },
   "outputs": [
    {
     "ename": "IndexError",
     "evalue": "index 3 is out of bounds for axis 0 with size 3",
     "output_type": "error",
     "traceback": [
      "\u001b[0;31m---------------------------------------------------------------------------\u001b[0m",
      "\u001b[0;31mIndexError\u001b[0m                                Traceback (most recent call last)",
      "\u001b[0;32m<ipython-input-35-2e7207500a8d>\u001b[0m in \u001b[0;36m<module>\u001b[0;34m()\u001b[0m\n\u001b[1;32m      1\u001b[0m \u001b[0mrecommendation_order\u001b[0m \u001b[0;34m=\u001b[0m \u001b[0mnp\u001b[0m\u001b[0;34m.\u001b[0m\u001b[0mrandom\u001b[0m\u001b[0;34m.\u001b[0m\u001b[0mpermutation\u001b[0m\u001b[0;34m(\u001b[0m\u001b[0;36m3\u001b[0m\u001b[0;34m)\u001b[0m\u001b[0;34m\u001b[0m\u001b[0m\n\u001b[0;32m----> 2\u001b[0;31m \u001b[0mrecommendation_order\u001b[0m\u001b[0;34m[\u001b[0m\u001b[0;36m3\u001b[0m\u001b[0;34m]\u001b[0m\u001b[0;34m\u001b[0m\u001b[0m\n\u001b[0m\u001b[1;32m      3\u001b[0m \u001b[0mrecommented_center\u001b[0m \u001b[0;34m=\u001b[0m \u001b[0mcenter_points\u001b[0m\u001b[0;34m[\u001b[0m\u001b[0mrecommendation_order\u001b[0m\u001b[0;34m,\u001b[0m \u001b[0;34m:\u001b[0m\u001b[0;34m]\u001b[0m\u001b[0;34m\u001b[0m\u001b[0m\n",
      "\u001b[0;31mIndexError\u001b[0m: index 3 is out of bounds for axis 0 with size 3"
     ]
    }
   ],
   "source": [
    "recommendation_order = np.random.permutation(3)\n",
    "recommendation_order[3]\n",
    "recommented_center = center_points[recommendation_order, :]"
   ]
  },
  {
   "cell_type": "code",
   "execution_count": 44,
   "metadata": {
    "collapsed": false
   },
   "outputs": [
    {
     "name": "stdout",
     "output_type": "stream",
     "text": [
      "[[ 40.76851325 -73.9727375 ]\n",
      " [ 40.72466925 -74.0130725 ]\n",
      " [ 40.7493535  -73.98809875]]\n",
      "[[ 40.76851325 -73.9727375 ]\n",
      " [ 40.72466925 -74.0130725 ]\n",
      " [ 40.7493535  -73.98809875]]\n"
     ]
    }
   ],
   "source": [
    "\"\"\"\n",
    "cordinate_data1 = np.array(travel_data['lat'])\n",
    "cordinate_data2 = np.array(travel_data['lng'])\n",
    "\"\"\"\n",
    "from sklearn.cluster import KMeans\n",
    "cordinate_data = []\n",
    "recommented_attraction = travel_data.iloc[:12, :]\n",
    "for i in range(recommented_attraction.shape[0]):\n",
    "    temp = []\n",
    "    temp.append(recommented_attraction['lat'].iloc[i])\n",
    "    temp.append(recommented_attraction['lng'].iloc[i])\n",
    "    cordinate_data.append(temp)\n",
    "    \n",
    "recommendation_order = np.random.permutation(3)\n",
    "\n",
    "kmeans = KMeans(n_clusters=3, random_state=0).fit(cordinate_data)\n",
    "\n",
    "center_points = kmeans.cluster_centers_\n",
    "\n",
    "recommented_center =kmeans.cluster_centers_[recommendation_order, :]\n",
    "index_list = {}\n",
    "a = pd.Series(kmeans.labels_)\n",
    "for i in range(3):\n",
    "    index_list[i] = (a[a == i].index.tolist())\n",
    "\"\"\"\n",
    "print(index_list)\n",
    "print(len(a[a==4]))\n",
    "print(kmeans.labels_)\n",
    "b = np.asarray(cordinate_data)\n",
    "print(type(kmeans.labels_))\n",
    "print(type(kmeans.cluster_centers_))\n",
    "\"\"\"\n",
    "order_list = sorted(index_list, key=lambda k: len(index_list[k]), reverse = True)\n",
    "order_list\n",
    "\n",
    "\n",
    "index_list, center_points = f(index_list, order_list, cordinate_data, center_points)\n",
    "center_points = np.asarray(center_points)\n",
    "print(center_points)\n",
    "recommented_center = center_points[recommendation_order, :]\n",
    "print(center_points)"
   ]
  },
  {
   "cell_type": "code",
   "execution_count": 36,
   "metadata": {
    "collapsed": false
   },
   "outputs": [
    {
     "data": {
      "text/plain": [
       "array([[ 40.7812175 , -73.9643    ],\n",
       "       [ 40.700635  , -74.0292275 ],\n",
       "       [ 40.75080488, -73.9885725 ]])"
      ]
     },
     "execution_count": 36,
     "metadata": {},
     "output_type": "execute_result"
    }
   ],
   "source": [
    "kmeans.cluster_centers_"
   ]
  },
  {
   "cell_type": "code",
   "execution_count": 37,
   "metadata": {
    "collapsed": false
   },
   "outputs": [
    {
     "data": {
      "text/plain": [
       "array([[ 40.7812175 , -73.9643    ],\n",
       "       [ 40.700635  , -74.0292275 ],\n",
       "       [ 40.75080488, -73.9885725 ]])"
      ]
     },
     "execution_count": 37,
     "metadata": {},
     "output_type": "execute_result"
    }
   ],
   "source": [
    "center_points"
   ]
  },
  {
   "cell_type": "code",
   "execution_count": 21,
   "metadata": {
    "collapsed": true
   },
   "outputs": [],
   "source": [
    "index_list, a = f(index_list, order_list, cordinate_data, center_points)"
   ]
  },
  {
   "cell_type": "code",
   "execution_count": 22,
   "metadata": {
    "collapsed": false
   },
   "outputs": [
    {
     "data": {
      "text/plain": [
       "[[40.768513249999998, -73.972737499999994],\n",
       " [40.724669249999998, -74.013072499999993],\n",
       " [40.749353499999998, -73.988098750000006]]"
      ]
     },
     "execution_count": 22,
     "metadata": {},
     "output_type": "execute_result"
    }
   ],
   "source": [
    "a"
   ]
  },
  {
   "cell_type": "code",
   "execution_count": 15,
   "metadata": {
    "collapsed": false
   },
   "outputs": [
    {
     "data": {
      "text/plain": [
       "array([[ 40.7812175 , -73.9643    ],\n",
       "       [ 40.700635  , -74.0292275 ],\n",
       "       [ 40.75080488, -73.9885725 ]])"
      ]
     },
     "execution_count": 15,
     "metadata": {},
     "output_type": "execute_result"
    }
   ],
   "source": [
    "center_points"
   ]
  },
  {
   "cell_type": "code",
   "execution_count": 17,
   "metadata": {
    "collapsed": false
   },
   "outputs": [
    {
     "ename": "TypeError",
     "evalue": "unhashable type: 'numpy.ndarray'",
     "output_type": "error",
     "traceback": [
      "\u001b[0;31m---------------------------------------------------------------------------\u001b[0m",
      "\u001b[0;31mTypeError\u001b[0m                                 Traceback (most recent call last)",
      "\u001b[0;32m<ipython-input-17-34084fa62172>\u001b[0m in \u001b[0;36m<module>\u001b[0;34m()\u001b[0m\n\u001b[0;32m----> 1\u001b[0;31m \u001b[0mindex_list\u001b[0m\u001b[0;34m[\u001b[0m\u001b[0mrecommendation_order\u001b[0m\u001b[0;34m,\u001b[0m \u001b[0;34m:\u001b[0m\u001b[0;34m]\u001b[0m\u001b[0;34m\u001b[0m\u001b[0m\n\u001b[0m",
      "\u001b[0;31mTypeError\u001b[0m: unhashable type: 'numpy.ndarray'"
     ]
    }
   ],
   "source": [
    "index_list"
   ]
  },
  {
   "cell_type": "code",
   "execution_count": 326,
   "metadata": {
    "collapsed": false
   },
   "outputs": [
    {
     "data": {
      "text/plain": [
       "{0: array([ 40.77876175, -73.9674725 ]),\n",
       " 1: array([ 40.75650036, -73.98293645]),\n",
       " 2: array([ 40.712375, -74.01326 ]),\n",
       " 3: array([ 40.740751, -74.005415]),\n",
       " 4: array([ 40.68976 , -74.045135])}"
      ]
     },
     "execution_count": 326,
     "metadata": {},
     "output_type": "execute_result"
    }
   ],
   "source": [
    "d_center = {}\n",
    "d_points = {}\n",
    "points_list = []\n",
    "for x in range(5):\n",
    "    d_center[x] = kmeans.cluster_centers_[x]\n",
    "    for i in range(len(index_list[x])):\n",
    "        points_list.append(cordinate_data[index_list[x][i]])\n",
    "    d_points[x] = points_list\n",
    "    points_list = []\n",
    "d_points\n",
    "d_center"
   ]
  },
  {
   "cell_type": "code",
   "execution_count": 327,
   "metadata": {
    "collapsed": false
   },
   "outputs": [
    {
     "data": {
      "text/plain": [
       "array([2, 4, 1, 6, 5, 0, 3])"
      ]
     },
     "execution_count": 327,
     "metadata": {},
     "output_type": "execute_result"
    }
   ],
   "source": [
    "import numpy as pd\n",
    "np.random.permutation(7)"
   ]
  },
  {
   "cell_type": "code",
   "execution_count": 328,
   "metadata": {
    "collapsed": false
   },
   "outputs": [
    {
     "data": {
      "text/plain": [
       "[1, 0, 2, 3, 4]"
      ]
     },
     "execution_count": 328,
     "metadata": {},
     "output_type": "execute_result"
    }
   ],
   "source": [
    "index_list\n",
    "#while any(len(x) != 5 for x in index_list):\n",
    "#index_list_sorted = sorted(index_list, key=lambda k: len(index_list[k]), reverse = True)\n",
    "index_list_sorted = {}\n",
    "#for sorted_key in sorted(index_list, key=lambda k: len(index_list[k]), reverse = True):\n",
    "    #index_list_sorted[sorted_key] = index_list[sorted_key]\n",
    "    #print(sorted_key, index_list[sorted_key])   \n",
    "#index_list_sorted\n",
    "order_list = sorted(index_list, key=lambda k: len(index_list[k]), reverse = True)\n",
    "order_list"
   ]
  },
  {
   "cell_type": "code",
   "execution_count": 329,
   "metadata": {
    "collapsed": false
   },
   "outputs": [
    {
     "ename": "TypeError",
     "evalue": "object of type 'int' has no len()",
     "output_type": "error",
     "traceback": [
      "\u001b[0;31m---------------------------------------------------------------------------\u001b[0m",
      "\u001b[0;31mTypeError\u001b[0m                                 Traceback (most recent call last)",
      "\u001b[0;32m<ipython-input-329-ee31947f6c89>\u001b[0m in \u001b[0;36m<module>\u001b[0;34m()\u001b[0m\n\u001b[0;32m----> 1\u001b[0;31m \u001b[0msorted\u001b[0m\u001b[0;34m(\u001b[0m\u001b[0mindex_list\u001b[0m\u001b[0;34m,\u001b[0m \u001b[0mkey\u001b[0m\u001b[0;34m=\u001b[0m\u001b[0mlen\u001b[0m\u001b[0;34m)\u001b[0m\u001b[0;34m\u001b[0m\u001b[0m\n\u001b[0m\u001b[1;32m      2\u001b[0m \u001b[0mindex_list\u001b[0m\u001b[0;34m\u001b[0m\u001b[0m\n",
      "\u001b[0;31mTypeError\u001b[0m: object of type 'int' has no len()"
     ]
    }
   ],
   "source": [
    "sorted(index_list, key=len)\n",
    "index_list"
   ]
  },
  {
   "cell_type": "code",
   "execution_count": 9,
   "metadata": {
    "collapsed": true
   },
   "outputs": [],
   "source": [
    "from geopy.distance import vincenty\n",
    "\n",
    "def distance(lat1,lng1,lat2,lng2):\n",
    "    add1 = (lat1,lng1)\n",
    "    add2 = (lat2,lng2)\n",
    "    d = vincenty(add1, add2).miles\n",
    "    return d"
   ]
  },
  {
   "cell_type": "code",
   "execution_count": 387,
   "metadata": {
    "collapsed": false
   },
   "outputs": [
    {
     "data": {
      "text/plain": [
       "array([[ 40.77876175, -73.9674725 ],\n",
       "       [ 40.75650036, -73.98293645],\n",
       "       [ 40.712375  , -74.01326   ],\n",
       "       [ 40.740751  , -74.005415  ],\n",
       "       [ 40.68976   , -74.045135  ]])"
      ]
     },
     "execution_count": 387,
     "metadata": {},
     "output_type": "execute_result"
    }
   ],
   "source": [
    "#center_points = []\n",
    "#center_points = kmeans.cluster_centers_\n",
    "center_points"
   ]
  },
  {
   "cell_type": "code",
   "execution_count": 40,
   "metadata": {
    "collapsed": false
   },
   "outputs": [],
   "source": [
    "def f(index_list, order_list, cordinate_data, center_points):\n",
    "    for k, i in enumerate(order_list):\n",
    "        n = len(index_list[i]) - 4\n",
    "        for x in range(n):\n",
    "            #find max distance\n",
    "            d = 0\n",
    "            max_index = 0\n",
    "            for index in range(len(index_list[i])):\n",
    "                if (d < distance(cordinate_data[index][0], cordinate_data[index][1],center_points[i][0], center_points[i][1])):\n",
    "                    d = distance(cordinate_data[index][0], cordinate_data[index][1],center_points[i][0], center_points[i][1])\n",
    "                    max_index = index\n",
    "            #calculate minimal distance to a cluster j, j != i\n",
    "            d = 10000\n",
    "            min_index = 0\n",
    "            for index in order_list[k+1:]:\n",
    "                if (d > distance(cordinate_data[max_index][0], cordinate_data[max_index][1],center_points[index][0], center_points[index][1])):\n",
    "                    d = distance(cordinate_data[max_index][0], cordinate_data[max_index][1],center_points[index][0], center_points[index][1])\n",
    "                    min_index = index\n",
    "            #add\n",
    "            index_list[min_index].append(index_list[i][max_index])\n",
    "            #delete\n",
    "            del index_list[i][max_index]\n",
    "        #recalculate centroids    \n",
    "        center_points = []\n",
    "        for j in range(3):\n",
    "            cordinate_subdata = [cordinate_data[h] for h in index_list[j]]\n",
    "            kmeans = KMeans(n_clusters=1, random_state=0).fit(cordinate_subdata)\n",
    "            center_points.append([kmeans.cluster_centers_[0][0], kmeans.cluster_centers_[0][1]])\n",
    "    return index_list, center_points"
   ]
  },
  {
   "cell_type": "code",
   "execution_count": 389,
   "metadata": {
    "collapsed": false
   },
   "outputs": [],
   "source": [
    "index_list = f(index_list, order_list, cordinate_data, center_points)\n"
   ]
  },
  {
   "cell_type": "code",
   "execution_count": 390,
   "metadata": {
    "collapsed": false
   },
   "outputs": [
    {
     "data": {
      "text/plain": [
       "{0: [0, 3, 13, 18],\n",
       " 1: [1, 5, 6, 8],\n",
       " 2: [4, 14, 9, 17],\n",
       " 3: [2, 7, 11, 12],\n",
       " 4: [10, 19, 15, 16]}"
      ]
     },
     "execution_count": 390,
     "metadata": {},
     "output_type": "execute_result"
    }
   ],
   "source": [
    "index_list"
   ]
  },
  {
   "cell_type": "code",
   "execution_count": 264,
   "metadata": {
    "collapsed": false
   },
   "outputs": [
    {
     "data": {
      "text/plain": [
       "{0: [0, 3, 13, 18],\n",
       " 1: [1, 5, 6, 11, 12, 15, 16, 17, 19],\n",
       " 2: [4, 14],\n",
       " 3: [2, 7],\n",
       " 4: [10]}"
      ]
     },
     "execution_count": 264,
     "metadata": {},
     "output_type": "execute_result"
    }
   ],
   "source": [
    "d = 0\n",
    "max_index = 0\n",
    "for index in range(6):\n",
    "            #print(index)\n",
    "    #print(distance(cordinate_data[index][0], cordinate_data[index][1],kmeans.cluster_centers_[i][0], kmeans.cluster_centers_[i][1]))\n",
    "    if (d < distance(cordinate_data[index][0], cordinate_data[index][1],kmeans.cluster_centers_[i][0], kmeans.cluster_centers_[i][1])):\n",
    "        #print(d)\n",
    "        d = distance(cordinate_data[index][0], cordinate_data[index][1],kmeans.cluster_centers_[i][0], kmeans.cluster_centers_[i][1])\n",
    "        max_index = index\n",
    "d\n",
    "index_list[1][max_index]\n",
    "del index_list[1][max_index]\n",
    "index_list"
   ]
  },
  {
   "cell_type": "code",
   "execution_count": 320,
   "metadata": {
    "collapsed": false
   },
   "outputs": [
    {
     "data": {
      "text/plain": [
       "[[[40.77876175, -73.9674725]],\n",
       " [[40.75355975, -73.98374625]],\n",
       " [[40.745936125, -73.98802825]],\n",
       " [[40.740751, -74.005415]],\n",
       " [[40.727143, -74.0223725]]]"
      ]
     },
     "execution_count": 320,
     "metadata": {},
     "output_type": "execute_result"
    }
   ],
   "source": [
    "    center_points = []\n",
    "    for j in range(5):\n",
    "        cordinate_subdata = [cordinate_data[h] for h in index_list[j]]\n",
    "        kmeans = KMeans(n_clusters=1, random_state=0).fit(cordinate_subdata)\n",
    "        center_points.append(kmeans.cluster_centers_.tolist())\n",
    "    center_points"
   ]
  },
  {
   "cell_type": "code",
   "execution_count": 275,
   "metadata": {
    "collapsed": false
   },
   "outputs": [
    {
     "data": {
      "text/plain": [
       "[[40.68976, -74.045135000000002]]"
      ]
     },
     "execution_count": 275,
     "metadata": {},
     "output_type": "execute_result"
    }
   ],
   "source": [
    "cordinate_subdata = [cordinate_data[i] for i in index_list[4]]\n",
    "cordinate_subdata"
   ]
  },
  {
   "cell_type": "code",
   "execution_count": 285,
   "metadata": {
    "collapsed": false
   },
   "outputs": [
    {
     "data": {
      "text/plain": [
       "{0: [0],\n",
       " 1: [1, 5, 6, 8, 17],\n",
       " 2: [4, 14, 9, 11, 12, 15, 16],\n",
       " 3: [2, 7, 13, 18, 3],\n",
       " 4: [10, 19, 19]}"
      ]
     },
     "execution_count": 285,
     "metadata": {},
     "output_type": "execute_result"
    }
   ],
   "source": [
    "    for x in range(6):\n",
    "        #find max distance\n",
    "        d = 0\n",
    "        max_index = 0\n",
    "        for index in range(len(index_list[1])):\n",
    "            if (d < distance(cordinate_data[index][0], cordinate_data[index][1],kmeans.cluster_centers_[1][0], kmeans.cluster_centers_[1][1])):\n",
    "                d = distance(cordinate_data[index][0], cordinate_data[index][1],kmeans.cluster_centers_[1][0], kmeans.cluster_centers_[1][1])\n",
    "                max_index = index\n",
    "        #calculate minimal distance to a cluster , j != i\n",
    "        d = 10000\n",
    "        min_index = 0\n",
    "        for index in order_list[1:]:\n",
    "            if (d > distance(cordinate_data[max_index][0], cordinate_data[max_index][1],kmeans.cluster_centers_[index][0], kmeans.cluster_centers_[index][1])):\n",
    "                d = distance(cordinate_data[max_index][0], cordinate_data[max_index][1],kmeans.cluster_centers_[index][0], kmeans.cluster_centers_[index][1])\n",
    "                min_index = index\n",
    "        #add\n",
    "        index_list[min_index].append(index_list[1][max_index])\n",
    "        #delete\n",
    "        del index_list[1][max_index]\n",
    "    index_list"
   ]
  },
  {
   "cell_type": "code",
   "execution_count": null,
   "metadata": {
    "collapsed": true
   },
   "outputs": [],
   "source": []
  },
  {
   "cell_type": "code",
   "execution_count": null,
   "metadata": {
    "collapsed": true
   },
   "outputs": [],
   "source": []
  },
  {
   "cell_type": "code",
   "execution_count": 159,
   "metadata": {
    "collapsed": false
   },
   "outputs": [],
   "source": [
    "from geopy.distance import vincenty\n",
    "\n",
    "def distance(lat1,lng1,lat2,lng2):\n",
    "    add1 = (lat1,lng1)\n",
    "    add2 = (lat2,lng2)\n",
    "    d = vincenty(add1, add2).miles\n",
    "    return d"
   ]
  },
  {
   "cell_type": "code",
   "execution_count": 192,
   "metadata": {
    "collapsed": false
   },
   "outputs": [
    {
     "name": "stdout",
     "output_type": "stream",
     "text": [
      "[[40.779429999999998, -73.963239999999999], [40.783004999999996, -73.965360000000004], [40.781321999999996, -73.973990000000001], [40.77129, -73.967299999999994]]\n",
      "[ 40.77876175 -73.9674725 ]\n",
      "[[40.748329999999996, -73.985680000000002], [40.758884000000002, -73.979384999999994], [40.748134999999998, -73.984800000000007], [40.758890000000001, -73.985119999999995], [40.752728000000005, -73.977230000000006], [40.75797, -73.985534999999999], [40.758735999999999, -73.978676000000007], [40.761433000000004, -73.977620000000002], [40.753093999999997, -73.981705000000005], [40.758778, -73.976939999999999], [40.764526000000004, -73.999610000000004]]\n",
      "[ 40.75650036 -73.98293645]\n",
      "[[40.711509999999997, -74.013319999999993], [40.713239999999999, -74.013199999999998]]\n",
      "[ 40.712375 -74.01326 ]\n",
      "[[40.742065000000004, -74.002530000000007], [40.739437000000002, -74.008300000000006]]\n",
      "[ 40.740751 -74.005415]\n",
      "[[40.68976, -74.045135000000002]]\n",
      "[ 40.68976  -74.045135]\n"
     ]
    }
   ],
   "source": [
    "for i in range(5):\n",
    "    print(d_points[i])\n",
    "    print(d_center[i])"
   ]
  },
  {
   "cell_type": "code",
   "execution_count": 409,
   "metadata": {
    "collapsed": false
   },
   "outputs": [
    {
     "name": "stdout",
     "output_type": "stream",
     "text": [
      "<_io.TextIOWrapper name='plot_map.html' mode='r' encoding='UTF-8'>\n"
     ]
    }
   ],
   "source": [
    "import codecs\n",
    "f=codecs.open('plot_map.html', 'r')\n",
    "print(f)"
   ]
  },
  {
   "cell_type": "code",
   "execution_count": 412,
   "metadata": {
    "collapsed": false
   },
   "outputs": [
    {
     "data": {
      "text/plain": [
       "True"
      ]
     },
     "execution_count": 412,
     "metadata": {},
     "output_type": "execute_result"
    }
   ],
   "source": [
    "import webbrowser\n",
    "new = 2\n",
    "base = os.getcwd()\n",
    "link = 'file://'+base+ '/plot_map.html'\n",
    "webbrowser.open(link,new=new)"
   ]
  },
  {
   "cell_type": "code",
   "execution_count": null,
   "metadata": {
    "collapsed": true
   },
   "outputs": [],
   "source": []
  }
 ],
 "metadata": {
  "anaconda-cloud": {},
  "kernelspec": {
   "display_name": "Python [default]",
   "language": "python",
   "name": "python3"
  },
  "language_info": {
   "codemirror_mode": {
    "name": "ipython",
    "version": 3
   },
   "file_extension": ".py",
   "mimetype": "text/x-python",
   "name": "python",
   "nbconvert_exporter": "python",
   "pygments_lexer": "ipython3",
   "version": "3.5.2"
  }
 },
 "nbformat": 4,
 "nbformat_minor": 1
}
