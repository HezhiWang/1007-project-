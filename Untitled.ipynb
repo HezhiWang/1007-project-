{
 "cells": [
  {
   "cell_type": "code",
   "execution_count": 2,
   "metadata": {
    "collapsed": false
   },
   "outputs": [],
   "source": [
    "import numpy as np\n",
    "import string\n",
    "from numpy import random\n",
    "from functools import reduce\n",
    "from operator import add\n",
    "from collections import Counter\n",
    "alphabet = string.ascii_lowercase"
   ]
  },
  {
   "cell_type": "code",
   "execution_count": 3,
   "metadata": {
    "collapsed": false
   },
   "outputs": [
    {
     "data": {
      "text/plain": [
       "'abcdefghijklmnopqrstuvwxyz'"
      ]
     },
     "execution_count": 3,
     "metadata": {},
     "output_type": "execute_result"
    }
   ],
   "source": [
    "alphabet"
   ]
  },
  {
   "cell_type": "code",
   "execution_count": 20,
   "metadata": {
    "collapsed": false
   },
   "outputs": [
    {
     "data": {
      "text/plain": [
       "['a',\n",
       " 'a',\n",
       " 'a',\n",
       " 'a',\n",
       " 'b',\n",
       " 'b',\n",
       " 'b',\n",
       " 'b',\n",
       " 'b',\n",
       " 'b',\n",
       " 'b',\n",
       " 'c',\n",
       " 'c',\n",
       " 'd',\n",
       " 'd',\n",
       " 'd',\n",
       " 'd',\n",
       " 'd',\n",
       " 'e',\n",
       " 'e',\n",
       " 'e',\n",
       " 'e',\n",
       " 'e',\n",
       " 'e',\n",
       " 'e',\n",
       " 'e',\n",
       " 'e',\n",
       " 'e',\n",
       " 'f',\n",
       " 'f',\n",
       " 'f',\n",
       " 'f',\n",
       " 'f',\n",
       " 'f',\n",
       " 'f',\n",
       " 'f',\n",
       " 'f',\n",
       " 'f',\n",
       " 'g',\n",
       " 'g',\n",
       " 'g',\n",
       " 'g',\n",
       " 'g',\n",
       " 'g',\n",
       " 'g',\n",
       " 'g',\n",
       " 'g',\n",
       " 'h',\n",
       " 'i',\n",
       " 'i',\n",
       " 'i',\n",
       " 'i',\n",
       " 'i',\n",
       " 'j',\n",
       " 'k',\n",
       " 'k',\n",
       " 'k',\n",
       " 'k',\n",
       " 'k',\n",
       " 'k',\n",
       " 'l',\n",
       " 'l',\n",
       " 'l',\n",
       " 'l',\n",
       " 'm',\n",
       " 'm',\n",
       " 'm',\n",
       " 'm',\n",
       " 'm',\n",
       " 'm',\n",
       " 'm',\n",
       " 'm',\n",
       " 'm',\n",
       " 'm',\n",
       " 'n',\n",
       " 'n',\n",
       " 'n',\n",
       " 'o',\n",
       " 'o',\n",
       " 'p',\n",
       " 'p',\n",
       " 'q',\n",
       " 'q',\n",
       " 'q',\n",
       " 'q',\n",
       " 'q',\n",
       " 'q',\n",
       " 'q',\n",
       " 'q',\n",
       " 'q',\n",
       " 'q',\n",
       " 'r',\n",
       " 'r',\n",
       " 'r',\n",
       " 's',\n",
       " 's',\n",
       " 's',\n",
       " 's',\n",
       " 's',\n",
       " 's',\n",
       " 's',\n",
       " 's',\n",
       " 's',\n",
       " 't',\n",
       " 't',\n",
       " 't',\n",
       " 't',\n",
       " 't',\n",
       " 't',\n",
       " 't',\n",
       " 't',\n",
       " 'u',\n",
       " 'u',\n",
       " 'u',\n",
       " 'u',\n",
       " 'u',\n",
       " 'u',\n",
       " 'v',\n",
       " 'v',\n",
       " 'v',\n",
       " 'v',\n",
       " 'v',\n",
       " 'v',\n",
       " 'w',\n",
       " 'w',\n",
       " 'w',\n",
       " 'x',\n",
       " 'x',\n",
       " 'y',\n",
       " 'y',\n",
       " 'y',\n",
       " 'y',\n",
       " 'y',\n",
       " 'y',\n",
       " 'y',\n",
       " 'z',\n",
       " 'z',\n",
       " 'z',\n",
       " 'z',\n",
       " 'z',\n",
       " 'z']"
      ]
     },
     "execution_count": 20,
     "metadata": {},
     "output_type": "execute_result"
    }
   ],
   "source": [
    "#original_count_letters = map()\n",
    "#map(np.random.randint(1, 11), alphabet)\n",
    "original_count_letters = [np.random.randint(1, 11) for x in alphabet]\n",
    "alphabet_list = list(alphabet)\n",
    "alphabet_list\n",
    "random_letters=[]\n",
    "for i, x in enumerate(alphabet_list):\n",
    "    j = 0\n",
    "    while (j < original_count_letters[i]):\n",
    "        random_letters.append(x)\n",
    "        j+=1\n",
    "random_letters"
   ]
  },
  {
   "cell_type": "code",
   "execution_count": 17,
   "metadata": {
    "collapsed": false
   },
   "outputs": [
    {
     "data": {
      "text/plain": [
       "[6,\n",
       " 5,\n",
       " 1,\n",
       " 7,\n",
       " 8,\n",
       " 5,\n",
       " 9,\n",
       " 4,\n",
       " 5,\n",
       " 10,\n",
       " 8,\n",
       " 9,\n",
       " 8,\n",
       " 6,\n",
       " 4,\n",
       " 8,\n",
       " 10,\n",
       " 6,\n",
       " 10,\n",
       " 7,\n",
       " 8,\n",
       " 2,\n",
       " 3,\n",
       " 5,\n",
       " 1,\n",
       " 10]"
      ]
     },
     "execution_count": 17,
     "metadata": {},
     "output_type": "execute_result"
    }
   ],
   "source": [
    "original_count_letters"
   ]
  },
  {
   "cell_type": "code",
   "execution_count": 1,
   "metadata": {
    "collapsed": false
   },
   "outputs": [],
   "source": [
    "import urllib.request\n",
    "from bs4 import BeautifulSoup\n",
    "import pandas as pd\n",
    "import time\n",
    "restaurant_name = []\n",
    "number_of_review = []\n",
    "score_of_review = []\n",
    "address = []\n",
    "number_of_price = []\n",
    "category = []\n",
    "for i in range(3):\n",
    "    a = str(i * 10)\n",
    "    url1 = \"https://www.yelp.com/search?find_loc=New+York,+NY\"\n",
    "    url2 = \"&start=\" + a\n",
    "    url3 = \"&cflt=restaurants\"\n",
    "    url = url1 + url2 + url3\n",
    "    ht = urllib.request.urlopen(url).read()\n",
    "    soup = BeautifulSoup(ht, \"lxml\")\n",
    "\n",
    "    for t in soup.find_all('a', class_ = 'biz-name'):\n",
    "        restaurant_name.append(t.text.replace(\" \", \"\").strip())#\n",
    "\n",
    "    for t in soup.find_all('span', class_ = 'review-count'):\n",
    "        number_of_review.append(t.text.strip().split(\" \")[0])\n",
    "            \n",
    "    for t in soup.find_all('div', class_ = 'i-stars'):\n",
    "        score_of_review.append(t.get('title').split(\" \")[0].strip())\n",
    "    for t in soup.find_all('address'):\n",
    "        address.append(t.text.strip())#\n",
    "    for t in soup.find_all('span', class_ = 'business-attribute'):\n",
    "        number_of_price.append(len(t.text))#\n",
    "    for t in soup.find_all('span', class_ = 'category-str-list'):\n",
    "        category.append(t.text.replace(\" \", \"\").replace(\"\\n\", \"\").strip())#\n",
    "    \"\"\"\n",
    "    for t in soup.find_all('a', class_ = 'biz-name'):\n",
    "        rurl = \"http://www.yelp.com\" + t.get(\"href\")\n",
    "        ht1 = urllib.request.urlopen(rurl).read()\n",
    "        time.sleep(2)\n",
    "        soup1 = BeautifulSoup(ht1, \"lxml\")\n",
    "        for t in soup1.find_all('div', class_ = 'lightbox-map'):\n",
    "            num = t.get('data-map-state').find('latitude')\n",
    "            print(t.get('data-map-state')[num+11:num+20])\n",
    "    \"\"\"\n",
    "    restaurant_name.pop(0)\n",
    "    address.pop(0)\n",
    "    number_of_price.pop(0)\n",
    "    category.pop(0)"
   ]
  },
  {
   "cell_type": "code",
   "execution_count": 4,
   "metadata": {
    "collapsed": false
   },
   "outputs": [
    {
     "data": {
      "text/plain": [
       "{'re': ['MiscelaneaNY',\n",
       "  'ThaiVilla',\n",
       "  'LaContenta',\n",
       "  'Simple',\n",
       "  'GramercyTavern',\n",
       "  'TheBlueLightSpeakCheesy',\n",
       "  'TaiyakiNYC',\n",
       "  'Kichin',\n",
       "  'TheChinaStar',\n",
       "  'Juliana’sPizza',\n",
       "  'Kichin',\n",
       "  'Breakroom',\n",
       "  'Mahji',\n",
       "  'WahFungNo1FastFood',\n",
       "  'NishNush',\n",
       "  'Luke’sLobster',\n",
       "  'ThursdayKitchen',\n",
       "  'CavaGrill',\n",
       "  'Despaña',\n",
       "  'TheChinaStar',\n",
       "  'Burger&Lobster',\n",
       "  'TheAlcove',\n",
       "  'Mahji',\n",
       "  'CheekySandwiches',\n",
       "  'Traif',\n",
       "  'HudsonEatsAtBrookfieldPlace',\n",
       "  'BeeHiveOvenBiscuitCafe',\n",
       "  'ElMate',\n",
       "  'Dinnertable',\n",
       "  'AaharIndianCuisine']}"
      ]
     },
     "execution_count": 4,
     "metadata": {},
     "output_type": "execute_result"
    }
   ],
   "source": [
    "d = {}\n",
    "d['re'] = restaurant_name\n",
    "d"
   ]
  },
  {
   "cell_type": "code",
   "execution_count": 3,
   "metadata": {
    "collapsed": false
   },
   "outputs": [
    {
     "data": {
      "text/plain": [
       "[<span class=\"review-count rating-qualifier\">\n",
       "             1380 reviews\n",
       "     </span>, <span class=\"review-count rating-qualifier\">\n",
       "             1299 reviews\n",
       "     </span>, <span class=\"review-count rating-qualifier\">\n",
       "             93 reviews\n",
       "     </span>, <span class=\"review-count rating-qualifier\">\n",
       "             314 reviews\n",
       "     </span>, <span class=\"review-count rating-qualifier\">\n",
       "             2145 reviews\n",
       "     </span>, <span class=\"review-count rating-qualifier\">\n",
       "             87 reviews\n",
       "     </span>, <span class=\"review-count rating-qualifier\">\n",
       "             117 reviews\n",
       "     </span>, <span class=\"review-count rating-qualifier\">\n",
       "             40 reviews\n",
       "     </span>, <span class=\"review-count rating-qualifier\">\n",
       "             332 reviews\n",
       "     </span>, <span class=\"review-count rating-qualifier\">\n",
       "             1147 reviews\n",
       "     </span>]"
      ]
     },
     "execution_count": 3,
     "metadata": {},
     "output_type": "execute_result"
    }
   ],
   "source": [
    "soup.find_all('span', class_ = 'review-count')"
   ]
  },
  {
   "cell_type": "code",
   "execution_count": null,
   "metadata": {
    "collapsed": true
   },
   "outputs": [],
   "source": []
  }
 ],
 "metadata": {
  "anaconda-cloud": {},
  "kernelspec": {
   "display_name": "Python [Root]",
   "language": "python",
   "name": "Python [Root]"
  },
  "language_info": {
   "codemirror_mode": {
    "name": "ipython",
    "version": 3
   },
   "file_extension": ".py",
   "mimetype": "text/x-python",
   "name": "python",
   "nbconvert_exporter": "python",
   "pygments_lexer": "ipython3",
   "version": "3.5.2"
  }
 },
 "nbformat": 4,
 "nbformat_minor": 0
}
