{
 "cells": [
  {
   "cell_type": "code",
   "execution_count": 45,
   "metadata": {
    "collapsed": false
   },
   "outputs": [
    {
     "name": "stdout",
     "output_type": "stream",
     "text": [
      "price:  5\n",
      "price:  3\n",
      "price:  4\n",
      "price:  5\n",
      "price:  2\n",
      "price:  5\n",
      "price:  3\n",
      "price:  4\n",
      "price:  4\n",
      "price:  5\n",
      "price:  5\n",
      "price:  5\n",
      "price:  5\n",
      "price:  5\n",
      "price:  3\n",
      "0\n",
      "price:  2\n",
      "price:  3\n",
      "price:  5\n",
      "price:  3\n",
      "price:  3\n",
      "price:  1\n",
      "price:  5\n",
      "price:  4\n",
      "price:  5\n",
      "price:  4\n",
      "price:  5\n",
      "price:  5\n",
      "staff: -999\n",
      "staff: -999\n",
      "staff: -999\n",
      "staff: -999\n",
      "1\n",
      "price:  2\n",
      "price:  5\n",
      "price:  4\n",
      "price:  4\n",
      "price:  4\n",
      "price:  4\n",
      "price:  4\n",
      "price:  5\n",
      "price:  4\n",
      "price:  4\n",
      "staff: -999\n",
      "staff: -999\n",
      "staff: -999\n",
      "staff: -999\n",
      "2\n",
      "price:  5\n",
      "price:  2\n",
      "price:  5\n",
      "price:  2\n",
      "price:  3\n",
      "price:  1\n",
      "price:  4\n",
      "price:  2\n",
      "staff: -999\n",
      "staff: -999\n",
      "staff: -999\n",
      "staff: -999\n",
      "staff: -999\n",
      "3\n",
      "price:  2\n",
      "price:  3\n",
      "price:  4\n",
      "price:  4\n",
      "price:  1\n",
      "staff: -999\n",
      "staff: -999\n",
      "staff: -999\n",
      "staff: -999\n",
      "staff: -999\n",
      "staff: -999\n",
      "staff: -999\n",
      "staff: -999\n",
      "staff: -999\n",
      "4\n",
      "price:  2\n",
      "price:  1\n",
      "price:  3\n",
      "price:  2\n",
      "staff: -999\n",
      "staff: -999\n",
      "staff: -999\n",
      "staff: -999\n",
      "staff: -999\n",
      "staff: -999\n",
      "staff: -999\n",
      "staff: -999\n",
      "staff: -999\n",
      "5\n",
      "price:  2\n",
      "price:  1\n",
      "price:  1\n",
      "price:  3\n",
      "price:  3\n",
      "price:  1\n",
      "price:  1\n",
      "staff: -999\n",
      "staff: -999\n",
      "staff: -999\n",
      "staff: -999\n",
      "staff: -999\n",
      "staff: -999\n",
      "staff: -999\n",
      "staff: -999\n",
      "6\n",
      "price:  5\n",
      "price:  3\n",
      "price:  2\n",
      "price:  2\n",
      "price:  3\n",
      "price:  2\n",
      "price:  2\n",
      "staff: -999\n",
      "staff: -999\n",
      "staff: -999\n",
      "staff: -999\n",
      "staff: -999\n",
      "staff: -999\n",
      "staff: -999\n",
      "staff: -999\n",
      "staff: -999\n",
      "7\n",
      "price:  4\n",
      "price:  1\n",
      "price:  3\n",
      "price:  1\n",
      "price:  1\n",
      "price:  1\n",
      "price:  1\n",
      "price:  1\n",
      "price:  3\n",
      "staff: -999\n",
      "staff: -999\n",
      "staff: -999\n",
      "staff: -999\n",
      "8\n"
     ]
    }
   ],
   "source": [
    "import urllib.request\n",
    "#import urllib\n",
    "import pandas as pd\n",
    "from bs4 import BeautifulSoup \n",
    "base0 = \"http://www.booking.com\"\n",
    "base1 = \"http://www.booking.com/searchresults.html?aid=304142&label=gen173nr-1DCAEoggJCAlhYSDNiBW5vcmVmcgV1c19ueYgBAZgBMbgBB8gBDNgBA-gBAfgBAqgCAw&sid=c6e9dc7aa93ac2e0ec4cbd9ef8daec72&class_interval=1&dest_id=20088325&dest_type=city&group_adults=2&group_children=0&hlrd=0&label_click=undef&no_rooms=1&review_score_group=empty&room1=A%2CA&sb_price_type=total&score_min=0&search_selected=1' '&src=index&src_elem=sb' &ss=New%20York%20City%2C%20New%20York%20State%2C%20United%20States%20of%20America&ss_raw=new&ssb=empty&sshis=0&rows=15&offset=\"\n",
    "#base2 = \"http://www.booking.com/searchresults.html?aid=376370&label=bdot-XGU4XCNgAdnROGBcUOKsoQS77084489314%3Apl%3Ata%3Ap1%3Ap21%2C078%2C000%3Aac%3Aap1t1%3Aneg%3Afi%3Atiaud-146342138710%3Akwd-334108349%3Alp9003562%3Ali%3Adec%3Adm&lang=en-us&sid=4a944c8fb061415dbfbfa4c6b63bb734&src=searchresults&src_elem=sb&error_url=http%3A%2F%2Fwww.booking.com%2Fsearchresults.html%3Faid%3D376370%3Blabel%3Dbdot-XGU4XCNgAdnROGBcUOKsoQS77084489314%253Apl%253Ata%253Ap1%253Ap21%252C078%252C000%253Aac%253Aap1t1%253Aneg%253Afi%253Atiaud-146342138710%253Akwd-334108349%253Alp9003562%253Ali%253Adec%253Adm%3Bsid%3D4a944c8fb061415dbfbfa4c6b63bb734%3Bcity%3D20089077%3Bclass_interval%3D1%3Bdest_id%3D20085207%3Bdest_type%3Dcity%3Bdtdisc%3D0%3Bgroup_adults%3D2%3Bgroup_children%3D0%3Bhlrd%3D0%3Bhyb_red%3D0%3Binac%3D0%3Blabel_click%3Dundef%3Bnha_red%3D0%3Bno_rooms%3D1%3Boffset%3D0%3Bpostcard%3D0%3Bredirected_from_city%3D0%3Bredirected_from_landmark%3D0%3Bredirected_from_region%3D0%3Breview_score_group%3Dempty%3Broom1%3DA%252CA%3Bsb_price_type%3Dtotal%3Bscore_min%3D0%3Bsearch_selected%3D1%3Bsrc%3Dsearchresults%3Bsrc_elem%3Dsb%3Bss%3DBrooklyn%252C%2520New%2520York%2520State%252C%2520United%2520States%2520of%2520America%3Bss_all%3D0%3Bss_raw%3Dbroo%3Bssb%3Dempty%3Bsshis%3D0%3Bssne_untouched%3DQueens%3Btrack_hp_back_button%3D1%26%3B&ss=Brooklyn&ssne=Brooklyn&ssne_untouched=Brooklyn&city=20085207&checkin_month=&checkin_monthday=&checkin_year=&checkout_month=&checkout_monthday=&checkout_year=&room1=A%2CA&no_rooms=1&group_adults=2&group_children=0&ss_raw=Brooklyn&dest_id=&dest_type=&search_pageview_id=09802bb6cc700264&search_selected=false&sshis=0&rows=15&offset=\"\n",
    "#base3 = \"http://www.booking.com/searchresults.en-us.html?aid=376370&label=bdot-XGU4XCNgAdnROGBcUOKsoQS77084489314%3Apl%3Ata%3Ap1%3Ap21%2C078%2C000%3Aac%3Aap1t1%3Aneg%3Afi%3Atiaud-146342138710%3Akwd-334108349%3Alp9003562%3Ali%3Adec%3Adm&lang=en-us&sid=4a944c8fb061415dbfbfa4c6b63bb734&src=index&src_elem=sb&error_url=http%3A%2F%2Fwww.booking.com%2Findex.html%3Faid%3D376370%3Blabel%3Dbdot-XGU4XCNgAdnROGBcUOKsoQS77084489314%253Apl%253Ata%253Ap1%253Ap21%252C078%252C000%253Aac%253Aap1t1%253Aneg%253Afi%253Atiaud-146342138710%253Akwd-334108349%253Alp9003562%253Ali%253Adec%253Adm%3Bsid%3D4a944c8fb061415dbfbfa4c6b63bb734%3Bsb_price_type%3Dtotal%26%3B&ss=Queens%2C+New+York+State%2C+USA&checkin_month=&checkin_monthday=&checkin_year=&checkout_month=&checkout_monthday=&checkout_year=&nflt=&sb_acc_types=1&room1=A%2CA&no_rooms=1&group_adults=2&group_children=0&ss_raw=queens&ac_position=1&ac_langcode=en&dest_id=20089077&dest_type=city&&sshis=0&rows=15&offset=\"\n",
    "namelist = []\n",
    "addrlist = []\n",
    "latlist = []\n",
    "lnglist = []\n",
    "avgscorelist = []\n",
    "locscorelist = []\n",
    "treviewlist = []\n",
    "cleanlinesslist = []\n",
    "comfortlist = []\n",
    "facilitieslist = []\n",
    "stafflist = []\n",
    "valueformoneylist = []\n",
    "freewifilist = []\n",
    "pricelist = []\n",
    "for i in range(0,9):\n",
    "    p = i*15\n",
    "    url = base1 + str(p)\n",
    "    ht = urllib.request.urlopen(url).read()\n",
    "    #ht = urllib.urlopen(url).read()\n",
    "    soup = BeautifulSoup(ht, \"lxml\")\n",
    "    # find price rank\n",
    "    for t in soup.find_all('div',class_ = 'room_details'):\n",
    "        if t.div:\n",
    "            pricerank = t.div.div.get('class')[-2][-1]\n",
    "            pricelist.append(pricerank)\n",
    "            print(\"price: \", pricerank)\n",
    "        else:\n",
    "            pricerank = -999\n",
    "            pricelist.append(pricerank)\n",
    "            #print(\"price: \", pricerank)\n",
    "    # find review number\n",
    "    for t in soup.find_all(\"div\",class_ = 'reviewFloater'):\n",
    "        rev = t.div.text.strip().replace(\"\\n\",' ').split(' ')\n",
    "        if rev[0]=='Show':\n",
    "            totalreview = -999\n",
    "            treviewlist.append(totalreview)\n",
    "            #print(\"total review: \", totalreview)\n",
    "        else:\n",
    "            totalreview = rev[-2]\n",
    "            treviewlist.append(totalreview)\n",
    "            #print(\"total review: \", totalreview)\n",
    "        \n",
    "    # find hotel link\n",
    "    for t0 in soup.find_all(\"a\",class_=\"hotel_name_link\"):\n",
    "        hurl = base0 + t0.get('href',None)\n",
    "        hthotel = urllib.request.urlopen(hurl).read()\n",
    "        souphotel = BeautifulSoup(hthotel, \"lxml\")\n",
    "        # find hotel name\n",
    "        for t1 in souphotel.find_all('span',class_ = 'fn'):\n",
    "            name = t1.text.strip()\n",
    "            namelist.append(name)\n",
    "            #print('name: ', name)\n",
    "        # find address & lng & lat\n",
    "        for t2 in souphotel.find_all('span', class_ = 'hp_address_subtitle'):\n",
    "            addr = t2.text.strip()\n",
    "            addrlist.append(addr)\n",
    "            lng = t2.get('data-bbox').split(',')[0]\n",
    "            lat = t2.get('data-bbox').split(',')[1]\n",
    "            lnglist.append(lng)\n",
    "            latlist.append(lat)\n",
    "            #print('addr: ', t2.text.strip())\n",
    "            #print('lat:',lat, 'lng:',lng)\n",
    "        # avg score\n",
    "        reviews = souphotel.find_all('div', class_ = 'hp-gallery-review')    \n",
    "        for t in reviews:\n",
    "            allscorelist = []\n",
    "            if t.div.div:\n",
    "                avgscore = t.div.div.get('data-review-score')\n",
    "                avgscorelist.append(avgscore)\n",
    "                #print('avgscore:', avgscore)\n",
    "                \n",
    "                for t in souphotel.find_all('li', class_ = 'clearfix one_col'):\n",
    "                    allscorelist.append(t.text.strip().split('\\n'))\n",
    "                cleanliness = allscorelist[0][-1]\n",
    "                comfort = allscorelist[1][-1]\n",
    "                locscore = allscorelist[2][-1]\n",
    "                facilities = allscorelist[3][-1]\n",
    "                staff = allscorelist[4][-1]\n",
    "                valueformoney = allscorelist[5][-1]\n",
    "                freewifi = allscorelist[6][-1]\n",
    "                \n",
    "                cleanlinesslist.append(cleanliness)\n",
    "                comfortlist.append(comfort)\n",
    "                locscorelist.append(locscore)\n",
    "                facilitieslist.append(facilities)\n",
    "                stafflist.append(staff)\n",
    "                valueformoneylist.append(valueformoney)\n",
    "                freewifilist.append(freewifi)\n",
    "                #print('locscore:',locscore)\n",
    "                #print('staff:', staff)\n",
    "            else:\n",
    "                avgscore = -999\n",
    "                cleanliness = -999\n",
    "                comfort = -999\n",
    "                locscore = -999\n",
    "                facilities = -999\n",
    "                staff = -999\n",
    "                valueformoney = -999\n",
    "                freewifi = -999\n",
    "                avgscorelist.append(avgscore)\n",
    "                cleanlinesslist.append(cleanliness)\n",
    "                comfortlist.append(comfort)\n",
    "                locscorelist.append(locscore)\n",
    "                facilitieslist.append(facilities)\n",
    "                stafflist.append(staff)\n",
    "                valueformoneylist.append(valueformoney)\n",
    "                freewifilist.append(freewifi)\n",
    "                #print('avgscore:', avgscore)\n",
    "                #print('locscore:', locscore)\n",
    "                print('staff:', staff)\n",
    "    print(i)\n",
    "\n",
    "d = {'name':namelist, 'price':pricelist, 'address':addrlist,'lat':latlist,'lng':lnglist,'avgscore':avgscorelist, 'Location':locscorelist,'total_review':treviewlist,\n",
    "    'Cleanliness':cleanlinesslist, 'Comfort':comfortlist,'Facilities':facilitieslist, 'Staff':stafflist,'Value for money':valueformoneylist, 'Free Wifi': freewifilist}  \n",
    "\n",
    "bookingDB = pd.DataFrame(d)\n",
    "bookingDB.to_csv('bookingBrooklyn0.csv',encoding='utf-8')\n",
    "#print(bookingDB)\n",
    "\n",
    "\n",
    "\n",
    "\n",
    "\n"
   ]
  },
  {
   "cell_type": "code",
   "execution_count": 29,
   "metadata": {
    "collapsed": false
   },
   "outputs": [],
   "source": [
    "d = {'name':namelist, \n",
    "     'price':pricelist, \n",
    "     'address':addrlist,\n",
    "     'lat':latlist,'lng':lnglist,'avgscore':avgscorelist, 'Location':locscorelist,'total_review':treviewlist,\n",
    "    'Cleanliness':cleanlinesslist, 'Comfort':comfortlist,'Facilities':facilitieslist, 'Staff':stafflist,'Value for money':valueformoneylist, 'Free Wifi': freewifilist}  \n",
    "\n",
    "\n",
    "#len(namelist)\n",
    "\n",
    "#len(addrlist)\n",
    "\n",
    "#len(latlist)\n",
    "#len(lnglist)\n",
    "#len(avgscorelist)"
   ]
  },
  {
   "cell_type": "code",
   "execution_count": 24,
   "metadata": {
    "collapsed": false
   },
   "outputs": [
    {
     "data": {
      "text/plain": [
       "30"
      ]
     },
     "execution_count": 24,
     "metadata": {},
     "output_type": "execute_result"
    }
   ],
   "source": [
    "#len(locscorelist)\n",
    "#len(treviewlist)\n",
    "#len(cleanlinesslist)\n",
    "#len(comfortlist)"
   ]
  },
  {
   "cell_type": "code",
   "execution_count": 34,
   "metadata": {
    "collapsed": false
   },
   "outputs": [
    {
     "data": {
      "text/plain": [
       "135"
      ]
     },
     "execution_count": 34,
     "metadata": {},
     "output_type": "execute_result"
    }
   ],
   "source": [
    "#len(facilitieslist)\n",
    "#len(stafflist)\n",
    "#len(valueformoneylist)\n",
    "#len(freewifilist)\n",
    "len(pricelist)"
   ]
  },
  {
   "cell_type": "code",
   "execution_count": 46,
   "metadata": {
    "collapsed": false
   },
   "outputs": [
    {
     "data": {
      "text/plain": [
       "(135, 14)"
      ]
     },
     "execution_count": 46,
     "metadata": {},
     "output_type": "execute_result"
    }
   ],
   "source": [
    "bookingDB.shape"
   ]
  },
  {
   "cell_type": "code",
   "execution_count": 47,
   "metadata": {
    "collapsed": false
   },
   "outputs": [
    {
     "data": {
      "text/plain": [
       "(135, 14)"
      ]
     },
     "execution_count": 47,
     "metadata": {},
     "output_type": "execute_result"
    }
   ],
   "source": [
    "b = bookingDB.drop_duplicates()\n",
    "b.shape"
   ]
  },
  {
   "cell_type": "code",
   "execution_count": 48,
   "metadata": {
    "collapsed": false
   },
   "outputs": [
    {
     "data": {
      "text/plain": [
       "'/Users/evelynz/1007-project-'"
      ]
     },
     "execution_count": 48,
     "metadata": {},
     "output_type": "execute_result"
    }
   ],
   "source": [
    "import os\n",
    "os.getcwd()"
   ]
  },
  {
   "cell_type": "code",
   "execution_count": 49,
   "metadata": {
    "collapsed": true
   },
   "outputs": [],
   "source": [
    "import pandas as pd"
   ]
  },
  {
   "cell_type": "code",
   "execution_count": 52,
   "metadata": {
    "collapsed": true
   },
   "outputs": [],
   "source": [
    "d1 = pd.read_csv('Data/bookingNYC.csv',index_col=0)"
   ]
  },
  {
   "cell_type": "code",
   "execution_count": 58,
   "metadata": {
    "collapsed": false
   },
   "outputs": [
    {
     "data": {
      "text/plain": [
       "Index(['address', 'Avgscore', 'Cleanliness', 'Comfort', 'Facilities',\n",
       "       'Free Wifi', 'Location', 'Price', 'Staff', 'Total_review',\n",
       "       'Value for money', 'lat', 'lng', 'name'],\n",
       "      dtype='object')"
      ]
     },
     "execution_count": 58,
     "metadata": {},
     "output_type": "execute_result"
    }
   ],
   "source": [
    "\n"
   ]
  },
  {
   "cell_type": "code",
   "execution_count": 61,
   "metadata": {
    "collapsed": false
   },
   "outputs": [],
   "source": [
    "d2 = pd.read_csv('Data/bookingQueens.csv',index_col=0)\n",
    "d2 = d2.rename(columns={'price':'Price','total_review':'Total_review','avgscore':\n",
    "                        'Avgscore'})"
   ]
  },
  {
   "cell_type": "code",
   "execution_count": 63,
   "metadata": {
    "collapsed": false
   },
   "outputs": [],
   "source": [
    "d3 = pd.read_csv('Data/bookingBrooklyn.csv',index_col=0)\n",
    "d3 = d3.rename(columns={'price':'Price','total_review':'Total_review','avgscore':\n",
    "                        'Avgscore'})"
   ]
  },
  {
   "cell_type": "code",
   "execution_count": 65,
   "metadata": {
    "collapsed": false
   },
   "outputs": [],
   "source": [
    "d = pd.concat([d1,d2,d2],ignore_index=True)"
   ]
  },
  {
   "cell_type": "code",
   "execution_count": 67,
   "metadata": {
    "collapsed": false
   },
   "outputs": [
    {
     "data": {
      "text/plain": [
       "(1015, 14)"
      ]
     },
     "execution_count": 67,
     "metadata": {},
     "output_type": "execute_result"
    }
   ],
   "source": [
    "d.shape"
   ]
  },
  {
   "cell_type": "code",
   "execution_count": 68,
   "metadata": {
    "collapsed": true
   },
   "outputs": [],
   "source": [
    "d.to_csv('booking.csv',encoding='utf-8')"
   ]
  },
  {
   "cell_type": "code",
   "execution_count": 2,
   "metadata": {
    "collapsed": true
   },
   "outputs": [],
   "source": [
    "def f(x,y=None):\n",
    "    if not y:\n",
    "        return x\n",
    "    elif y==1:\n",
    "        return x+y\n",
    "    else:\n",
    "        return x**y"
   ]
  },
  {
   "cell_type": "code",
   "execution_count": 21,
   "metadata": {
    "collapsed": false
   },
   "outputs": [],
   "source": [
    "import pandas as pd\n",
    "p = pd.read_csv('Data/booking.csv',encoding='utf-8',index_col=0)"
   ]
  },
  {
   "cell_type": "code",
   "execution_count": 45,
   "metadata": {
    "collapsed": false
   },
   "outputs": [],
   "source": [
    "f = open('../desktop/w.rtf','w')\n",
    "f.write(r'{\\rtf1\\ansi\\ansicpg1252\\deff0\\deflang1033{\\fonttbl{\\f0\\fswiss\\fcharset0 Arial;}}')\n",
    "f.write(r' \\b {:*^100} \\b0  \\line\\ '.format('DAY'+str(1)))\n",
    "f.write(r'Name: {} \\line\\ '.format(p['Name'].iloc[0]))\n",
    "f.write(r'Address: \\enspace {} \\line\\ '.format(p['Address'].iloc[0]))\n",
    "f.write(r'Score: \\enspace {} \\line\\ '.format(p['Avgscore'].iloc[0]))\n",
    "f.write('\\line\\ \\line\\ ')\n",
    "f.write(r'\\qc \\b center \\enspace {} \\b0 \\qc0 \\line'.format(str(2)))\n",
    "f.write(r'}\\n\\x00')\n",
    "f.close()"
   ]
  },
  {
   "cell_type": "code",
   "execution_count": null,
   "metadata": {
    "collapsed": true
   },
   "outputs": [],
   "source": []
  }
 ],
 "metadata": {
  "anaconda-cloud": {},
  "kernelspec": {
   "display_name": "Python [Root]",
   "language": "python",
   "name": "Python [Root]"
  },
  "language_info": {
   "codemirror_mode": {
    "name": "ipython",
    "version": 3
   },
   "file_extension": ".py",
   "mimetype": "text/x-python",
   "name": "python",
   "nbconvert_exporter": "python",
   "pygments_lexer": "ipython3",
   "version": "3.5.2"
  }
 },
 "nbformat": 4,
 "nbformat_minor": 0
}
